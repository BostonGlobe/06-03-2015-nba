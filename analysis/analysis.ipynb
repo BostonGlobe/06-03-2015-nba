{
 "metadata": {
  "name": "",
  "signature": "sha256:a2cd9efc426a111e7402c6494696e7d5f55a0dc959bbdfc85643f3c9134b8f9e"
 },
 "nbformat": 3,
 "nbformat_minor": 0,
 "worksheets": [
  {
   "cells": [
    {
     "cell_type": "markdown",
     "metadata": {},
     "source": [
      "## An analysis of the NBA \"Last Two Minutes\" officiating report\n",
      "\n",
      "An analysis of the reports reviewing decisions at the end of close games from March 1, 2015 through the Conference Semi-finals. The NBA defines these as *\"all games within five points at the two minute mark of regulation (and during overtime, where applicable). The plays assessed include all calls (whistles) and notable non-calls.\"*"
     ]
    },
    {
     "cell_type": "markdown",
     "metadata": {},
     "source": [
      "By Russell Goldenberg"
     ]
    },
    {
     "cell_type": "markdown",
     "metadata": {},
     "source": [
      "### Questions\n",
      "- How often are calls incorrect or missed in a close game?\n",
      "- Do officials make more decisions in favor of the home team?\n",
      "- What calls are o getting wrong most often?\n",
      "- What was the worst officiated game?\n",
      "- How often does an incorrect call **directly** lead to points?\n",
      "- Do the incorrect calls tend to make the game closer or further?"
     ]
    },
    {
     "cell_type": "code",
     "collapsed": false,
     "input": [
      "import pandas as pd\n",
      "import numpy as np\n",
      "\n",
      "pd.set_option('max_columns', 30)\n",
      "pd.set_option('max_colwidth', 200)"
     ],
     "language": "python",
     "metadata": {},
     "outputs": [],
     "prompt_number": 1
    },
    {
     "cell_type": "code",
     "collapsed": false,
     "input": [
      "raw = pd.read_csv(\"data-may-16.csv\")"
     ],
     "language": "python",
     "metadata": {},
     "outputs": [],
     "prompt_number": 2
    },
    {
     "cell_type": "code",
     "collapsed": false,
     "input": [
      "#take a look at the data\n",
      "raw[:2]"
     ],
     "language": "python",
     "metadata": {},
     "outputs": [
      {
       "html": [
        "<div style=\"max-height:1000px;max-width:1500px;overflow:auto;\">\n",
        "<table border=\"1\" class=\"dataframe\">\n",
        "  <thead>\n",
        "    <tr style=\"text-align: right;\">\n",
        "      <th></th>\n",
        "      <th>quarter</th>\n",
        "      <th>time</th>\n",
        "      <th>call_category</th>\n",
        "      <th>call_type</th>\n",
        "      <th>committing_player</th>\n",
        "      <th>committing_team</th>\n",
        "      <th>disadvantaged_player</th>\n",
        "      <th>disadvantaged_team</th>\n",
        "      <th>decision</th>\n",
        "      <th>indirect</th>\n",
        "      <th>comment</th>\n",
        "      <th>flag</th>\n",
        "      <th>date</th>\n",
        "      <th>away</th>\n",
        "      <th>home</th>\n",
        "      <th>winner</th>\n",
        "      <th>game</th>\n",
        "      <th>video</th>\n",
        "      <th>ref_1</th>\n",
        "      <th>ref_2</th>\n",
        "      <th>ref_3</th>\n",
        "      <th>game_info</th>\n",
        "      <th>source</th>\n",
        "    </tr>\n",
        "  </thead>\n",
        "  <tbody>\n",
        "    <tr>\n",
        "      <th>0</th>\n",
        "      <td> Q4</td>\n",
        "      <td> 02:00.0</td>\n",
        "      <td> Turnover</td>\n",
        "      <td> Traveling</td>\n",
        "      <td> Shaun Livingston</td>\n",
        "      <td> Warriors</td>\n",
        "      <td>           NaN</td>\n",
        "      <td>  Celtics</td>\n",
        "      <td>  CC</td>\n",
        "      <td> NaN</td>\n",
        "      <td>                     Livingston (GSW) moves his pivot foot heel to toe.</td>\n",
        "      <td> NaN</td>\n",
        "      <td> Mar 01, 2015</td>\n",
        "      <td> Warriors</td>\n",
        "      <td> Celtics</td>\n",
        "      <td> Warriors</td>\n",
        "      <td> Warriors @ Celtics (Mar 01, 2015)</td>\n",
        "      <td>  http://official.nba.com/last-two-minute-report/?gameNo=0021400880&amp;eventNum=507</td>\n",
        "      <td> #19 James Capers</td>\n",
        "      <td> #12 Violet Palmer</td>\n",
        "      <td> #29 Mark Lindsay</td>\n",
        "      <td> http://www.nba.com/games/20150301/GSWBOS/gameinfo.html</td>\n",
        "      <td> http://official.nba.com/wp-content/uploads/sites/4/2015/03/L2M-GSW-BOS-3-1-15.pdf</td>\n",
        "    </tr>\n",
        "    <tr>\n",
        "      <th>1</th>\n",
        "      <td> Q4</td>\n",
        "      <td> 00:45.0</td>\n",
        "      <td>     Foul</td>\n",
        "      <td>  Personal</td>\n",
        "      <td>    Avery Bradley</td>\n",
        "      <td>  Celtics</td>\n",
        "      <td> Stephen Curry</td>\n",
        "      <td> Warriors</td>\n",
        "      <td> CNC</td>\n",
        "      <td> NaN</td>\n",
        "      <td> Bradley (BOS) knocks the ball away from Curry (GSW) in the back court.</td>\n",
        "      <td> NaN</td>\n",
        "      <td> Mar 01, 2015</td>\n",
        "      <td> Warriors</td>\n",
        "      <td> Celtics</td>\n",
        "      <td> Warriors</td>\n",
        "      <td> Warriors @ Celtics (Mar 01, 2015)</td>\n",
        "      <td> http://official.nba.com/last-two-minute-report/?gameNo=0021400880&amp;eventNum=1285</td>\n",
        "      <td> #19 James Capers</td>\n",
        "      <td> #12 Violet Palmer</td>\n",
        "      <td> #29 Mark Lindsay</td>\n",
        "      <td> http://www.nba.com/games/20150301/GSWBOS/gameinfo.html</td>\n",
        "      <td> http://official.nba.com/wp-content/uploads/sites/4/2015/03/L2M-GSW-BOS-3-1-15.pdf</td>\n",
        "    </tr>\n",
        "  </tbody>\n",
        "</table>\n",
        "<p>2 rows \u00d7 23 columns</p>\n",
        "</div>"
       ],
       "metadata": {},
       "output_type": "pyout",
       "prompt_number": 3,
       "text": [
        "  quarter     time call_category  call_type committing_player committing_team  \\\n",
        "0      Q4  02:00.0      Turnover  Traveling  Shaun Livingston        Warriors   \n",
        "1      Q4  00:45.0          Foul   Personal     Avery Bradley         Celtics   \n",
        "\n",
        "  disadvantaged_player disadvantaged_team decision indirect  \\\n",
        "0                  NaN            Celtics       CC      NaN   \n",
        "1        Stephen Curry           Warriors      CNC      NaN   \n",
        "\n",
        "                                                                  comment  \\\n",
        "0                      Livingston (GSW) moves his pivot foot heel to toe.   \n",
        "1  Bradley (BOS) knocks the ball away from Curry (GSW) in the back court.   \n",
        "\n",
        "  flag          date      away     home    winner  \\\n",
        "0  NaN  Mar 01, 2015  Warriors  Celtics  Warriors   \n",
        "1  NaN  Mar 01, 2015  Warriors  Celtics  Warriors   \n",
        "\n",
        "                                game  \\\n",
        "0  Warriors @ Celtics (Mar 01, 2015)   \n",
        "1  Warriors @ Celtics (Mar 01, 2015)   \n",
        "\n",
        "                                                                             video  \\\n",
        "0   http://official.nba.com/last-two-minute-report/?gameNo=0021400880&eventNum=507   \n",
        "1  http://official.nba.com/last-two-minute-report/?gameNo=0021400880&eventNum=1285   \n",
        "\n",
        "              ref_1              ref_2             ref_3  \\\n",
        "0  #19 James Capers  #12 Violet Palmer  #29 Mark Lindsay   \n",
        "1  #19 James Capers  #12 Violet Palmer  #29 Mark Lindsay   \n",
        "\n",
        "                                                game_info  \\\n",
        "0  http://www.nba.com/games/20150301/GSWBOS/gameinfo.html   \n",
        "1  http://www.nba.com/games/20150301/GSWBOS/gameinfo.html   \n",
        "\n",
        "                                                                              source  \n",
        "0  http://official.nba.com/wp-content/uploads/sites/4/2015/03/L2M-GSW-BOS-3-1-15.pdf  \n",
        "1  http://official.nba.com/wp-content/uploads/sites/4/2015/03/L2M-GSW-BOS-3-1-15.pdf  \n",
        "\n",
        "[2 rows x 23 columns]"
       ]
      }
     ],
     "prompt_number": 3
    },
    {
     "cell_type": "markdown",
     "metadata": {},
     "source": [
      "### Cleanup and prep\n",
      "First we need to do a little cleanup to make the date more usable."
     ]
    },
    {
     "cell_type": "code",
     "collapsed": false,
     "input": [
      "#only looking at entries where an official review was made\n",
      "data = raw[raw['decision'].notnull()]"
     ],
     "language": "python",
     "metadata": {},
     "outputs": [],
     "prompt_number": 4
    },
    {
     "cell_type": "code",
     "collapsed": false,
     "input": [
      "#convert time to total seconds left\n",
      "data['minutes'] = data['time'].apply(lambda x: float(x.split(':')[0]))\n",
      "data['seconds'] = data['time'].apply(lambda x: float(x.split(':')[1]))\n",
      "data['seconds_left'] = (data.minutes * 60) + data.seconds"
     ],
     "language": "python",
     "metadata": {},
     "outputs": [],
     "prompt_number": 5
    },
    {
     "cell_type": "code",
     "collapsed": false,
     "input": [
      "#quarter to number (4,5,etc...)\n",
      "data['quarter_num'] = data['quarter'].apply(lambda x: int((x[1:2])))"
     ],
     "language": "python",
     "metadata": {},
     "outputs": [],
     "prompt_number": 6
    },
    {
     "cell_type": "code",
     "collapsed": false,
     "input": [
      "#categorize the 4 different outcomes of calls (CC, IC, CNC, INC)\n",
      "decisions = data.groupby('decision')\n",
      "decisionsCount = decisions.size()\n",
      "\n",
      "print decisionsCount"
     ],
     "language": "python",
     "metadata": {},
     "outputs": [
      {
       "output_type": "stream",
       "stream": "stdout",
       "text": [
        "decision\n",
        "CC          786\n",
        "CNC         828\n",
        "IC           26\n",
        "INC         224\n",
        "dtype: int64\n"
       ]
      }
     ],
     "prompt_number": 7
    },
    {
     "cell_type": "code",
     "collapsed": false,
     "input": [
      "#create a subset of data for each type of incorrect calls\n",
      "incorrectLabels = ['INC', 'IC']\n",
      "incorrect = data[data['decision'].isin(incorrectLabels)]\n",
      "incorrectNonCalls = incorrect[incorrect['decision'] == 'INC']\n",
      "incorrectCalls = incorrect[incorrect['decision'] == 'IC']"
     ],
     "language": "python",
     "metadata": {},
     "outputs": [],
     "prompt_number": 8
    },
    {
     "cell_type": "markdown",
     "metadata": {},
     "source": [
      "### Some general stats"
     ]
    },
    {
     "cell_type": "code",
     "collapsed": false,
     "input": [
      "#number of unique games\n",
      "numberOfGames = len(data['game'].unique())\n",
      "print 'number of games: %d' % numberOfGames\n",
      "print 'incorrect calls: %d' % len(incorrect)\n",
      "print 'number of calls: %d' % len(data)\n",
      "print 'incorrect per game : %.2f' % (float(len(incorrect)) / float(numberOfGames))"
     ],
     "language": "python",
     "metadata": {},
     "outputs": [
      {
       "output_type": "stream",
       "stream": "stdout",
       "text": [
        "number of games: 135\n",
        "incorrect calls: 250\n",
        "number of calls: 1864\n",
        "incorrect per game : 1.85\n"
       ]
      }
     ],
     "prompt_number": 9
    },
    {
     "cell_type": "markdown",
     "metadata": {},
     "source": [
      "### Q: How often are calls incorrect or missed in a close game?"
     ]
    },
    {
     "cell_type": "markdown",
     "metadata": {},
     "source": [
      "First, we can simply look at the rate of reviewed plays"
     ]
    },
    {
     "cell_type": "code",
     "collapsed": false,
     "input": [
      "print \"percent of all plays incorrect: %.2f%%\" % (float(len(incorrect)) / float(len(data)) * 100.0)\n",
      "print \"percent of plays where ref made incorrect call: %.2f%%\" % (float(decisionsCount['IC']) / float(decisionsCount['IC'] + decisionsCount['CC']) * 100.0)\n",
      "print \"percent of plays where ref should have made call: %.2f%%\" % (float(decisionsCount['INC']) / float(decisionsCount['INC'] + decisionsCount['CNC']) * 100.0)\n",
      "print \"%.1f times more plays are incorrectly not called than called incorrectly.\" % (float(decisionsCount['INC']) / float(decisionsCount['IC']))"
     ],
     "language": "python",
     "metadata": {},
     "outputs": [
      {
       "output_type": "stream",
       "stream": "stdout",
       "text": [
        "percent of all plays incorrect: 13.41%\n",
        "percent of plays where ref made incorrect call: 3.20%\n",
        "percent of plays where ref should have made call: 21.29%\n",
        "8.6 times more plays are incorrectly not called than called incorrectly.\n"
       ]
      }
     ],
     "prompt_number": 10
    },
    {
     "cell_type": "markdown",
     "metadata": {},
     "source": [
      "About 1 in 7.5 plays are not correctly called. (q: can we get a baseline from NBA?) Unfortunately we don't have a baseline to compare to in order to see if this is better or worse than the first 46 minutes.\n",
      "\n",
      "It looks like most wrong calls made my referees involve them **not** making the call instead of incorrectly making call in the game. About 1 in 5 plays, there should have been a call made by the ref, but they either missed it or chose to allow play to continue.  Also, 8.6 times more plays go incorrectly missed than incorrectly called, so it looks like the refs err on the side of not making the call."
     ]
    },
    {
     "cell_type": "markdown",
     "metadata": {},
     "source": [
      "Perhaps a more appropriate way to look at this is how many calls per minute or possession are incorrect."
     ]
    },
    {
     "cell_type": "code",
     "collapsed": false,
     "input": [
      "#simply use the mean for total incorrect calls / minutes reviewed (must account for OT)\n",
      "\n",
      "#find: minutes played, categorize by unique game\n",
      "#ugly solution\n",
      "\n",
      "overtimeMins = 0\n",
      "tripleOT = data[data['quarter_num'] == 7]\n",
      "overtimeMins += len(tripleOT['game'].unique()) * 5\n",
      "\n",
      "doubleOT = data[data['quarter_num'] == 6]\n",
      "overtimeMins += len(doubleOT['game'].unique()) * 5\n",
      "\n",
      "singleOT = data[data['quarter_num'] == 5]\n",
      "overtimeMins += len(singleOT['game'].unique()) * 5\n",
      "\n",
      "totalMinutes = numberOfGames * 2 + overtimeMins\n",
      "\n",
      "print '%.2f calls incorrect per minute' % (float(len(incorrect)) / float(totalMinutes))\n",
      "print 'or, every %.1f minutes a play is incorrect' % (float(totalMinutes) / float(len(incorrect))) "
     ],
     "language": "python",
     "metadata": {},
     "outputs": [
      {
       "output_type": "stream",
       "stream": "stdout",
       "text": [
        "0.57 calls incorrect per minute\n",
        "or, every 1.7 minutes a play is incorrect\n"
       ]
      }
     ],
     "prompt_number": 11
    },
    {
     "cell_type": "markdown",
     "metadata": {},
     "source": [
      "Basically, this means about 1 play is incorrect in last the two minutes of every close game in regulation, +3 for each period of OT."
     ]
    },
    {
     "cell_type": "markdown",
     "metadata": {},
     "source": [
      "### Q: Do referees make more decisions in favor of the home team?"
     ]
    },
    {
     "cell_type": "code",
     "collapsed": false,
     "input": [
      "# good for team:\n",
      "# INC and committing (no call for something they committed)\n",
      "# IC and disadvantaged (opponent got called when they shoudn't have)\n",
      "\n",
      "# look at just INC, see how many times comitting = home\n",
      "homeINC = incorrectNonCalls[incorrectNonCalls['committing_team'] == incorrectNonCalls['home']]\n",
      "awayINC = incorrectNonCalls[incorrectNonCalls['committing_team'] == incorrectNonCalls['away']]\n",
      "homeIC = incorrectCalls[incorrectCalls['disadvantaged_team'] == incorrectCalls['home']]\n",
      "awayIC = incorrectCalls[incorrectCalls['disadvantaged_team'] == incorrectCalls['away']]\n",
      "homeCount = float(len(homeINC) + len(homeIC))\n",
      "awayCount = float(len(awayINC) + len(awayIC))\n",
      "print \"percent favoring home: %.2f%%\" % ((homeCount / (homeCount + awayCount)) * 100.0)"
     ],
     "language": "python",
     "metadata": {},
     "outputs": [
      {
       "output_type": "stream",
       "stream": "stdout",
       "text": [
        "percent favoring home: 51.43%\n"
       ]
      }
     ],
     "prompt_number": 13
    },
    {
     "cell_type": "markdown",
     "metadata": {},
     "source": [
      "Nope. Basically just over half of plays favor the home team, so it is basically even."
     ]
    },
    {
     "cell_type": "markdown",
     "metadata": {},
     "source": [
      "### Q: What calls are officials getting wrong most often?"
     ]
    },
    {
     "cell_type": "code",
     "collapsed": false,
     "input": [
      "print 'Call categories:'\n",
      "print incorrect['call_category'].value_counts()\n",
      "\n",
      "print '\\nCall types:'\n",
      "incorrect['call_full'] = incorrect['call_category'] + ': '+ incorrect['call_type']\n",
      "\n",
      "print '\\n%.2f%% are fouls' % (float(len(incorrect[incorrect['call_category'] == 'Foul'])) / float(len(incorrect)) * 100.00)\n",
      "print '%.2f%% are traveling' % (float(len(incorrect[incorrect['call_type'] == 'Traveling'])) / float(len(incorrect)) * 100.00)\n",
      "print incorrect['call_full'].value_counts()"
     ],
     "language": "python",
     "metadata": {},
     "outputs": [
      {
       "output_type": "stream",
       "stream": "stdout",
       "text": [
        "Call categories:\n",
        "Foul              177\n",
        "Turnover           61\n",
        "Violation          11\n",
        "Instant Replay      1\n",
        "dtype: int64\n",
        "\n",
        "Call types:\n",
        "\n",
        "70.80% are fouls\n",
        "16.40% are traveling\n",
        "Foul: Personal                     44\n",
        "Foul: Shooting                     43\n",
        "Turnover: Traveling                41\n",
        "Foul: Offensive                    41\n",
        "Foul: Loose Ball                   40\n",
        "Violation: Lane                     8\n",
        "Turnover: 5 Second Inbound          6\n",
        "Foul: Defense 3 Second              4\n",
        "Turnover: Out of Bounds             3\n",
        "Turnover: 3 Second Violation        3\n",
        "Turnover: 24 Second Violation       3\n",
        "Foul: Away from Play                2\n",
        "Turnover: Illegal Screen            2\n",
        "Foul: Double Personal               2\n",
        "Turnover: Offensive Goaltending     2\n",
        "Violation: Double Lane              1\n",
        "Foul: Technical                     1\n",
        "Violation: Kicked Ball              1\n",
        "Violation: Delay of Game            1\n",
        "Turnover: Double Dribble            1\n",
        "Instant Replay: Overturn Ruling     1\n",
        "dtype: int64\n"
       ]
      }
     ],
     "prompt_number": 16
    },
    {
     "cell_type": "markdown",
     "metadata": {},
     "source": [
      "Unsurprisingly, fouls of all varieties dominate the errors (70%). More interesting is that traveling (a \"known\" problem if you ask any fan) is admittedly incorrect as much as any specific type of foul, and accounts for 16% of incorrect calls."
     ]
    },
    {
     "cell_type": "markdown",
     "metadata": {},
     "source": [
      "### Q: Is there any star treatment?"
     ]
    },
    {
     "cell_type": "code",
     "collapsed": false,
     "input": [
      "# good for player:\n",
      "# who is getting away with committing fouls?\n",
      "print \"players getting benefit\\n\"\n",
      "\n",
      "print \"getting away:\"\n",
      "print incorrectNonCalls['committing_player'].value_counts()[:10]\n",
      "\n",
      "# who is on the beneficiary end of the incorrect calls?\n",
      "print \"\\ngetting calls:\\n\", incorrectCalls['disadvantaged_player'].value_counts()[:10]\n",
      "\n",
      "print \"\\n\\nplayers disadvantaged\\n\"\n",
      "# bad for player:\n",
      "# not getting a call they should\n",
      "print \"should've got call:\\n\", incorrectNonCalls['disadvantaged_player'].value_counts()[:10]\n",
      "\n",
      "# committing a foul they didn't\n",
      "print \"\\ngot called:\\n\", incorrectCalls['committing_player'].value_counts()[:10]\n",
      "\n",
      "\n"
     ],
     "language": "python",
     "metadata": {},
     "outputs": [
      {
       "output_type": "stream",
       "stream": "stdout",
       "text": [
        "players getting benefit\n",
        "\n",
        "getting away:\n",
        "Marcin Gortat        8\n",
        "Tyreke Evans         7\n",
        "Brook Lopez          6\n",
        "Russell Westbrook    5\n",
        "Nikola Vucevic       5\n",
        "Kenneth Faried       4\n",
        "Roy Hibbert          4\n",
        "LeBron James         4\n",
        "Zach LaVine          4\n",
        "Joakim Noah          4\n",
        "dtype: int64\n",
        "\n",
        "getting calls:\n",
        "Robert Covington    1\n",
        "Wilson Chandler     1\n",
        "Eric Bledsoe        1\n",
        "Carlos Boozer       1\n",
        "Jordan Clarkson     1\n",
        "Gordon Hayward      1\n",
        "Chandler Parsons    1\n",
        "Anthony Davis       1\n",
        "Nicolas Batum       1\n",
        "George Hill         1\n",
        "dtype: int64\n",
        "\n",
        "\n",
        "players disadvantaged\n",
        "\n",
        "should've got call:\n",
        "PJ Tucker           5\n",
        "DeMarcus Cousins    5\n",
        "James Harden        4\n",
        "Danilo Gallinari    4\n",
        "Otto Porter         4\n",
        "Tim Duncan          3\n",
        "Andrew Wiggins      3\n",
        "Kemba Walker        3\n",
        "Anthony Davis       3\n",
        "John Wall           3\n",
        "dtype: int64\n",
        "\n",
        "got called:\n",
        "Jeff Green           2\n",
        "Klay Thompson        1\n",
        "Tyson Chandler       1\n",
        "Langston Galloway    1\n",
        "Henry Walker         1\n",
        "Pau Gasol            1\n",
        "Anthony Morrow       1\n",
        "Zaza Pachulia        1\n",
        "Joffrey Lauvergne    1\n",
        "George Hill          1\n",
        "dtype: int64\n"
       ]
      }
     ],
     "prompt_number": 180
    },
    {
     "cell_type": "markdown",
     "metadata": {},
     "source": [
      "It doesn't appear there is much star treatment. More data is needed."
     ]
    },
    {
     "cell_type": "markdown",
     "metadata": {},
     "source": [
      "### Q: Worst game of the year?"
     ]
    },
    {
     "cell_type": "code",
     "collapsed": false,
     "input": [
      "incorrect['game'].value_counts().head()"
     ],
     "language": "python",
     "metadata": {},
     "outputs": [
      {
       "metadata": {},
       "output_type": "pyout",
       "prompt_number": 20,
       "text": [
        "Nuggets @ Pelicans (Mar 15, 2015)       10\n",
        "Mavericks @ Suns (Mar 22, 2015)          8\n",
        "Spurs @ Knicks (Mar 17, 2015)            7\n",
        "Timberwolves @ Knicks (Mar 19, 2015)     6\n",
        "Wizards @ Raptors (Apr 18, 2015)         6\n",
        "dtype: int64"
       ]
      }
     ],
     "prompt_number": 20
    },
    {
     "cell_type": "code",
     "collapsed": false,
     "input": [
      "#number of games with an incorrect call\n",
      "numIncorrect = len(incorrect['game'].unique())\n",
      "print 'percent of games with an incorrect call: %.1f%%' % (float(numIncorrect) / float(numberOfGames) * 100.0)"
     ],
     "language": "python",
     "metadata": {},
     "outputs": [
      {
       "output_type": "stream",
       "stream": "stdout",
       "text": [
        "percent of games with an incorrect call: 79.3%\n"
       ]
      }
     ],
     "prompt_number": 30
    },
    {
     "cell_type": "code",
     "collapsed": false,
     "input": [
      "#write out csv of incorrect to check videos\n",
      "incorrect.to_csv('incorrect.csv')"
     ],
     "language": "python",
     "metadata": {},
     "outputs": [],
     "prompt_number": 35
    },
    {
     "cell_type": "code",
     "collapsed": false,
     "input": [],
     "language": "python",
     "metadata": {},
     "outputs": []
    }
   ],
   "metadata": {}
  }
 ]
}